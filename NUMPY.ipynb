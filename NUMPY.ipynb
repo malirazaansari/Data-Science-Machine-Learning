{
 "cells": [
  {
   "cell_type": "markdown",
   "id": "c521895a",
   "metadata": {},
   "source": [
    "# **The Power of NumPy**"
   ]
  },
  {
   "cell_type": "code",
   "execution_count": 1,
   "id": "42929177",
   "metadata": {
    "scrolled": true
   },
   "outputs": [
    {
     "data": {
      "text/plain": [
       "range(0, 5)"
      ]
     },
     "execution_count": 1,
     "metadata": {},
     "output_type": "execute_result"
    }
   ],
   "source": [
    "range(0,5)"
   ]
  },
  {
   "cell_type": "code",
   "execution_count": 2,
   "id": "95a84411",
   "metadata": {
    "scrolled": true
   },
   "outputs": [
    {
     "data": {
      "text/plain": [
       "[0, 1, 2, 3, 4]"
      ]
     },
     "execution_count": 2,
     "metadata": {},
     "output_type": "execute_result"
    }
   ],
   "source": [
    "list(range(0,5))"
   ]
  },
  {
   "cell_type": "code",
   "execution_count": 3,
   "id": "b887aabd",
   "metadata": {},
   "outputs": [
    {
     "data": {
      "text/plain": [
       "[0, 2, 4]"
      ]
     },
     "execution_count": 3,
     "metadata": {},
     "output_type": "execute_result"
    }
   ],
   "source": [
    "list(range(0,5,2))"
   ]
  },
  {
   "cell_type": "code",
   "execution_count": 4,
   "id": "fc41de4d",
   "metadata": {},
   "outputs": [],
   "source": [
    "list1 = [1,3,5,7,9]\n",
    "list2 = [2,4,6,8,10]"
   ]
  },
  {
   "cell_type": "code",
   "execution_count": 5,
   "id": "66af17a7",
   "metadata": {},
   "outputs": [
    {
     "ename": "TypeError",
     "evalue": "can't multiply sequence by non-int of type 'type'",
     "output_type": "error",
     "traceback": [
      "\u001b[1;31m---------------------------------------------------------------------------\u001b[0m",
      "\u001b[1;31mTypeError\u001b[0m                                 Traceback (most recent call last)",
      "Input \u001b[1;32mIn [5]\u001b[0m, in \u001b[0;36m<cell line: 1>\u001b[1;34m()\u001b[0m\n\u001b[1;32m----> 1\u001b[0m \u001b[38;5;28;43mlist\u001b[39;49m\u001b[43m \u001b[49m\u001b[38;5;241;43m*\u001b[39;49m\u001b[43m \u001b[49m\u001b[43mlist2\u001b[49m\n",
      "\u001b[1;31mTypeError\u001b[0m: can't multiply sequence by non-int of type 'type'"
     ]
    }
   ],
   "source": [
    "list * list2"
   ]
  },
  {
   "cell_type": "code",
   "execution_count": null,
   "id": "d9769b34",
   "metadata": {},
   "outputs": [],
   "source": [
    "new_list = []\n",
    "\n",
    "for i in range(0,len(list1)):\n",
    "    new_list.append(list1[i]*list2[i])\n",
    "\n",
    "print(new_list)"
   ]
  },
  {
   "cell_type": "code",
   "execution_count": 7,
   "id": "70f73f94",
   "metadata": {},
   "outputs": [
    {
     "data": {
      "text/plain": [
       "array([ 2, 12, 30, 56, 90])"
      ]
     },
     "execution_count": 7,
     "metadata": {},
     "output_type": "execute_result"
    }
   ],
   "source": [
    "import numpy as np\n",
    "\n",
    "np.multiply(list1,list2)"
   ]
  },
  {
   "cell_type": "code",
   "execution_count": null,
   "id": "4f19a758",
   "metadata": {},
   "outputs": [],
   "source": [
    "x = np.array(list1)\n",
    "y = np.array(list2)\n",
    "x*y"
   ]
  },
  {
   "cell_type": "code",
   "execution_count": null,
   "id": "a79f34f5",
   "metadata": {
    "scrolled": true
   },
   "outputs": [],
   "source": [
    "print(type(x))"
   ]
  },
  {
   "cell_type": "markdown",
   "id": "96bf143b",
   "metadata": {},
   "source": [
    "# **NUMPY ARRAYS**"
   ]
  },
  {
   "cell_type": "code",
   "execution_count": null,
   "id": "5fa806c3",
   "metadata": {},
   "outputs": [],
   "source": [
    "np.array([2,4,6,8])"
   ]
  },
  {
   "cell_type": "code",
   "execution_count": null,
   "id": "9eabeaae",
   "metadata": {},
   "outputs": [],
   "source": [
    "variable = [5.8,9,7,5]"
   ]
  },
  {
   "cell_type": "code",
   "execution_count": null,
   "id": "04fa0818",
   "metadata": {},
   "outputs": [],
   "source": [
    "print(type(variable[0]))\n",
    "print(type(variable[1]))"
   ]
  },
  {
   "cell_type": "code",
   "execution_count": null,
   "id": "f1d6d07e",
   "metadata": {},
   "outputs": [],
   "source": [
    "new_variable = np.array([5.8,9,7,5])"
   ]
  },
  {
   "cell_type": "code",
   "execution_count": null,
   "id": "b222ff6b",
   "metadata": {},
   "outputs": [],
   "source": [
    "new_variable.dtype"
   ]
  },
  {
   "cell_type": "code",
   "execution_count": null,
   "id": "cdaf9ab2",
   "metadata": {},
   "outputs": [],
   "source": [
    "new_variable"
   ]
  },
  {
   "cell_type": "code",
   "execution_count": null,
   "id": "3c7ccede",
   "metadata": {},
   "outputs": [],
   "source": [
    "new_variable2 = np.array([5.8,9,7,5], dtype = 'int')"
   ]
  },
  {
   "cell_type": "code",
   "execution_count": null,
   "id": "a6ce7de4",
   "metadata": {},
   "outputs": [],
   "source": [
    "new_variable2"
   ]
  },
  {
   "cell_type": "markdown",
   "id": "de59b476",
   "metadata": {},
   "source": [
    "# **Creating NumPy Array with The Zeros() Function**"
   ]
  },
  {
   "cell_type": "code",
   "execution_count": null,
   "id": "7ae790d8",
   "metadata": {},
   "outputs": [],
   "source": [
    "np.zeros(5)"
   ]
  },
  {
   "cell_type": "code",
   "execution_count": null,
   "id": "e84d0113",
   "metadata": {},
   "outputs": [],
   "source": [
    "np.zeros((3,5), dtype = 'int')"
   ]
  },
  {
   "cell_type": "markdown",
   "id": "ee3d73ba",
   "metadata": {},
   "source": [
    "# **Creating NumPy Array with The Ones() Function**"
   ]
  },
  {
   "cell_type": "code",
   "execution_count": null,
   "id": "8307c690",
   "metadata": {},
   "outputs": [],
   "source": [
    "np.ones(10)"
   ]
  },
  {
   "cell_type": "code",
   "execution_count": null,
   "id": "f2b37de0",
   "metadata": {},
   "outputs": [],
   "source": [
    "np.ones((3,4,5), dtype = 'int')"
   ]
  },
  {
   "cell_type": "markdown",
   "id": "9c84509a",
   "metadata": {},
   "source": [
    "# **Creating NumPy Array with The Full() Function**"
   ]
  },
  {
   "cell_type": "code",
   "execution_count": null,
   "id": "fa133de7",
   "metadata": {},
   "outputs": [],
   "source": [
    "np.full(8,5)"
   ]
  },
  {
   "cell_type": "code",
   "execution_count": null,
   "id": "7d132a6b",
   "metadata": {
    "scrolled": true
   },
   "outputs": [],
   "source": [
    "np.full((2,3),5, dtype = \"float\")"
   ]
  },
  {
   "cell_type": "markdown",
   "id": "932a7e8e",
   "metadata": {},
   "source": [
    "# Creating NumPy Array with The Arange() Function"
   ]
  },
  {
   "cell_type": "code",
   "execution_count": null,
   "id": "33224e33",
   "metadata": {},
   "outputs": [],
   "source": [
    "np.arange(5)"
   ]
  },
  {
   "cell_type": "code",
   "execution_count": null,
   "id": "6c55717f",
   "metadata": {},
   "outputs": [],
   "source": [
    "eg = np.arange(4,11,dtype = 'float')"
   ]
  },
  {
   "cell_type": "code",
   "execution_count": null,
   "id": "7dfc8393",
   "metadata": {},
   "outputs": [],
   "source": [
    "print(eg)"
   ]
  },
  {
   "cell_type": "code",
   "execution_count": null,
   "id": "b4f27840",
   "metadata": {},
   "outputs": [],
   "source": [
    "type(eg)\n"
   ]
  },
  {
   "cell_type": "markdown",
   "id": "68095b01",
   "metadata": {},
   "source": [
    "# Creating NumPy Array with The Eye() Function"
   ]
  },
  {
   "cell_type": "code",
   "execution_count": null,
   "id": "7acdd931",
   "metadata": {},
   "outputs": [],
   "source": [
    "np.eye(3)"
   ]
  },
  {
   "cell_type": "code",
   "execution_count": null,
   "id": "9a4c30fb",
   "metadata": {},
   "outputs": [],
   "source": [
    "np.eye(3,2)"
   ]
  },
  {
   "cell_type": "code",
   "execution_count": null,
   "id": "b906ad75",
   "metadata": {},
   "outputs": [],
   "source": [
    "np.eye(3,2,dtype = 'bool')"
   ]
  },
  {
   "cell_type": "markdown",
   "id": "ce4a9737",
   "metadata": {},
   "source": [
    "# Creating NumPy Array with The Linspace() Function"
   ]
  },
  {
   "cell_type": "code",
   "execution_count": 8,
   "id": "81e7ff65",
   "metadata": {
    "scrolled": true
   },
   "outputs": [
    {
     "data": {
      "text/plain": [
       "array([ 5.        ,  7.77777778, 10.55555556, 13.33333333, 16.11111111,\n",
       "       18.88888889, 21.66666667, 24.44444444, 27.22222222, 30.        ])"
      ]
     },
     "execution_count": 8,
     "metadata": {},
     "output_type": "execute_result"
    }
   ],
   "source": [
    "np.linspace(5, 30, 10)\n"
   ]
  },
  {
   "cell_type": "markdown",
   "id": "51acad4f",
   "metadata": {},
   "source": [
    "# Creating NumPy Array with The Random() Function"
   ]
  },
  {
   "cell_type": "code",
   "execution_count": 9,
   "id": "055465ec",
   "metadata": {},
   "outputs": [
    {
     "data": {
      "text/plain": [
       "array([[[0.91329231, 0.22205779, 0.31939063, 0.46871339, 0.43266476,\n",
       "         0.77467408, 0.52001052, 0.14544416, 0.71655322],\n",
       "        [0.1734565 , 0.48970468, 0.97059801, 0.03619527, 0.63797655,\n",
       "         0.16328799, 0.68429789, 0.77506181, 0.31132442],\n",
       "        [0.08741103, 0.00840826, 0.677972  , 0.20051734, 0.63691112,\n",
       "         0.66882276, 0.71122361, 0.21889532, 0.4831189 ],\n",
       "        [0.03430403, 0.77519843, 0.58556859, 0.16097535, 0.81810368,\n",
       "         0.85999876, 0.29012009, 0.45018189, 0.4863393 ]],\n",
       "\n",
       "       [[0.18197775, 0.09077973, 0.79241661, 0.63119276, 0.30918393,\n",
       "         0.67960733, 0.36147837, 0.57350728, 0.08829784],\n",
       "        [0.02665444, 0.08436935, 0.97140143, 0.3187213 , 0.28381911,\n",
       "         0.44337481, 0.3926445 , 0.5965068 , 0.85675666],\n",
       "        [0.9964869 , 0.39749076, 0.96644449, 0.27302574, 0.23880855,\n",
       "         0.1388396 , 0.70691433, 0.33949099, 0.75017752],\n",
       "        [0.16284515, 0.79590704, 0.45480427, 0.84990186, 0.78589662,\n",
       "         0.90751397, 0.33312985, 0.10542484, 0.88818481]]])"
      ]
     },
     "execution_count": 9,
     "metadata": {},
     "output_type": "execute_result"
    }
   ],
   "source": [
    "# rand function\n",
    "np.random.rand(2,4,9)"
   ]
  },
  {
   "cell_type": "code",
   "execution_count": 10,
   "id": "8c786908",
   "metadata": {},
   "outputs": [
    {
     "data": {
      "text/plain": [
       "array([ 0.51082212, -0.62636687, -1.52001598,  0.85095451, -0.3125964 ,\n",
       "        0.5681678 ])"
      ]
     },
     "execution_count": 10,
     "metadata": {},
     "output_type": "execute_result"
    }
   ],
   "source": [
    "# randn function\n",
    "np.random.randn(6)"
   ]
  },
  {
   "cell_type": "code",
   "execution_count": 11,
   "id": "c5becc38",
   "metadata": {},
   "outputs": [
    {
     "data": {
      "text/plain": [
       "array([[16.14430086, 21.09156141, 21.20669856],\n",
       "       [13.50199493, 15.47321672, 17.92996324],\n",
       "       [24.22576924, 20.39388972, 22.5495722 ],\n",
       "       [28.4038976 , 24.50987692, 20.37367537]])"
      ]
     },
     "execution_count": 11,
     "metadata": {},
     "output_type": "execute_result"
    }
   ],
   "source": [
    "# normal function\n",
    "np.random.normal(20,5,(4,3))"
   ]
  },
  {
   "cell_type": "code",
   "execution_count": 16,
   "id": "1762d1a2",
   "metadata": {},
   "outputs": [
    {
     "data": {
      "text/plain": [
       "array([[7, 4, 4, 4],\n",
       "       [6, 9, 4, 6],\n",
       "       [5, 0, 1, 4],\n",
       "       [6, 6, 6, 9]])"
      ]
     },
     "execution_count": 16,
     "metadata": {},
     "output_type": "execute_result"
    }
   ],
   "source": [
    "# randint function\n",
    "np.random.randint(0,10,(4,4))"
   ]
  },
  {
   "cell_type": "markdown",
   "id": "891c5030",
   "metadata": {},
   "source": [
    "# Properties of NumPy Array"
   ]
  },
  {
   "cell_type": "code",
   "execution_count": 17,
   "id": "e08a9ce5",
   "metadata": {},
   "outputs": [],
   "source": [
    "matrix = np.random.randint(10,50,(5,4))"
   ]
  },
  {
   "cell_type": "code",
   "execution_count": 18,
   "id": "2fc9f585",
   "metadata": {},
   "outputs": [
    {
     "data": {
      "text/plain": [
       "array([[34, 43, 34, 10],\n",
       "       [20, 48, 21, 14],\n",
       "       [39, 29, 21, 16],\n",
       "       [17, 26, 24, 33],\n",
       "       [11, 30, 43, 13]])"
      ]
     },
     "execution_count": 18,
     "metadata": {},
     "output_type": "execute_result"
    }
   ],
   "source": [
    "matrix"
   ]
  },
  {
   "cell_type": "code",
   "execution_count": 19,
   "id": "22224f15",
   "metadata": {},
   "outputs": [
    {
     "data": {
      "text/plain": [
       "(5, 4)"
      ]
     },
     "execution_count": 19,
     "metadata": {},
     "output_type": "execute_result"
    }
   ],
   "source": [
    "matrix.shape"
   ]
  },
  {
   "cell_type": "code",
   "execution_count": 20,
   "id": "4f9d0be9",
   "metadata": {},
   "outputs": [
    {
     "data": {
      "text/plain": [
       "2"
      ]
     },
     "execution_count": 20,
     "metadata": {},
     "output_type": "execute_result"
    }
   ],
   "source": [
    "matrix.ndim"
   ]
  },
  {
   "cell_type": "code",
   "execution_count": 21,
   "id": "84a5e1eb",
   "metadata": {},
   "outputs": [
    {
     "data": {
      "text/plain": [
       "20"
      ]
     },
     "execution_count": 21,
     "metadata": {},
     "output_type": "execute_result"
    }
   ],
   "source": [
    "matrix.size"
   ]
  },
  {
   "cell_type": "code",
   "execution_count": 22,
   "id": "e2bb1356",
   "metadata": {},
   "outputs": [
    {
     "data": {
      "text/plain": [
       "dtype('int32')"
      ]
     },
     "execution_count": 22,
     "metadata": {},
     "output_type": "execute_result"
    }
   ],
   "source": [
    "matrix.dtype"
   ]
  },
  {
   "cell_type": "markdown",
   "id": "b1e1dc24",
   "metadata": {},
   "source": [
    "# Reshaping a NumPy Array: Reshape() Function"
   ]
  },
  {
   "cell_type": "code",
   "execution_count": 25,
   "id": "f084293b",
   "metadata": {},
   "outputs": [
    {
     "data": {
      "text/plain": [
       "array([ 1,  2,  3,  4,  5,  6,  7,  8,  9, 10, 11, 12, 13, 14, 15])"
      ]
     },
     "execution_count": 25,
     "metadata": {},
     "output_type": "execute_result"
    }
   ],
   "source": [
    "example = np.arange(1,16)\n",
    "example"
   ]
  },
  {
   "cell_type": "code",
   "execution_count": 26,
   "id": "c2e3b23f",
   "metadata": {},
   "outputs": [
    {
     "data": {
      "text/plain": [
       "array([[ 1,  2,  3,  4,  5],\n",
       "       [ 6,  7,  8,  9, 10],\n",
       "       [11, 12, 13, 14, 15]])"
      ]
     },
     "execution_count": 26,
     "metadata": {},
     "output_type": "execute_result"
    }
   ],
   "source": [
    "example.reshape(3,5)"
   ]
  },
  {
   "cell_type": "code",
   "execution_count": 27,
   "id": "22aad6d0",
   "metadata": {},
   "outputs": [
    {
     "data": {
      "text/plain": [
       "array([[ 1,  2,  3,  4,  5,  6,  7,  8,  9, 10, 11, 12, 13, 14, 15]])"
      ]
     },
     "execution_count": 27,
     "metadata": {},
     "output_type": "execute_result"
    }
   ],
   "source": [
    "array = example.reshape(1,15)\n",
    "array"
   ]
  },
  {
   "cell_type": "code",
   "execution_count": 30,
   "id": "b1ef7097",
   "metadata": {},
   "outputs": [
    {
     "data": {
      "text/plain": [
       "2"
      ]
     },
     "execution_count": 30,
     "metadata": {},
     "output_type": "execute_result"
    }
   ],
   "source": [
    "array.ndim"
   ]
  },
  {
   "cell_type": "code",
   "execution_count": 29,
   "id": "2bab8ccd",
   "metadata": {},
   "outputs": [
    {
     "data": {
      "text/plain": [
       "1"
      ]
     },
     "execution_count": 29,
     "metadata": {},
     "output_type": "execute_result"
    }
   ],
   "source": [
    "example.ndim"
   ]
  },
  {
   "cell_type": "code",
   "execution_count": 31,
   "id": "ff607970",
   "metadata": {},
   "outputs": [
    {
     "ename": "ValueError",
     "evalue": "cannot reshape array of size 15 into shape (4,3)",
     "output_type": "error",
     "traceback": [
      "\u001b[1;31m---------------------------------------------------------------------------\u001b[0m",
      "\u001b[1;31mValueError\u001b[0m                                Traceback (most recent call last)",
      "Input \u001b[1;32mIn [31]\u001b[0m, in \u001b[0;36m<cell line: 1>\u001b[1;34m()\u001b[0m\n\u001b[1;32m----> 1\u001b[0m \u001b[43mexample\u001b[49m\u001b[38;5;241;43m.\u001b[39;49m\u001b[43mreshape\u001b[49m\u001b[43m(\u001b[49m\u001b[43m(\u001b[49m\u001b[38;5;241;43m4\u001b[39;49m\u001b[43m,\u001b[49m\u001b[38;5;241;43m3\u001b[39;49m\u001b[43m)\u001b[49m\u001b[43m)\u001b[49m\n",
      "\u001b[1;31mValueError\u001b[0m: cannot reshape array of size 15 into shape (4,3)"
     ]
    }
   ],
   "source": [
    "example.reshape((4,3))"
   ]
  },
  {
   "cell_type": "code",
   "execution_count": 32,
   "id": "ed10d852",
   "metadata": {},
   "outputs": [
    {
     "ename": "ValueError",
     "evalue": "cannot reshape array of size 15 into shape (4,4)",
     "output_type": "error",
     "traceback": [
      "\u001b[1;31m---------------------------------------------------------------------------\u001b[0m",
      "\u001b[1;31mValueError\u001b[0m                                Traceback (most recent call last)",
      "Input \u001b[1;32mIn [32]\u001b[0m, in \u001b[0;36m<cell line: 1>\u001b[1;34m()\u001b[0m\n\u001b[1;32m----> 1\u001b[0m \u001b[43mexample\u001b[49m\u001b[38;5;241;43m.\u001b[39;49m\u001b[43mreshape\u001b[49m\u001b[43m(\u001b[49m\u001b[43m(\u001b[49m\u001b[38;5;241;43m4\u001b[39;49m\u001b[43m,\u001b[49m\u001b[38;5;241;43m4\u001b[39;49m\u001b[43m)\u001b[49m\u001b[43m)\u001b[49m\n",
      "\u001b[1;31mValueError\u001b[0m: cannot reshape array of size 15 into shape (4,4)"
     ]
    }
   ],
   "source": [
    "example.reshape((4,4))"
   ]
  },
  {
   "cell_type": "markdown",
   "id": "3d32b7ae",
   "metadata": {},
   "source": [
    "# Largest Element of a Numpy Array: Max(), Argmax() Functions"
   ]
  },
  {
   "cell_type": "code",
   "execution_count": 34,
   "id": "44a0a408",
   "metadata": {},
   "outputs": [
    {
     "data": {
      "text/plain": [
       "array([20, 36, 48, 37,  8, 44, 24, 41, 38,  0])"
      ]
     },
     "execution_count": 34,
     "metadata": {},
     "output_type": "execute_result"
    }
   ],
   "source": [
    "array1 = np.random.randint(0,50,10)\n",
    "array1"
   ]
  },
  {
   "cell_type": "code",
   "execution_count": 37,
   "id": "e8e8d35c",
   "metadata": {},
   "outputs": [
    {
     "data": {
      "text/plain": [
       "48"
      ]
     },
     "execution_count": 37,
     "metadata": {},
     "output_type": "execute_result"
    }
   ],
   "source": [
    "array1.max()"
   ]
  },
  {
   "cell_type": "code",
   "execution_count": 38,
   "id": "386ea31d",
   "metadata": {},
   "outputs": [
    {
     "data": {
      "text/plain": [
       "2"
      ]
     },
     "execution_count": 38,
     "metadata": {},
     "output_type": "execute_result"
    }
   ],
   "source": [
    "array1.argmax()"
   ]
  },
  {
   "cell_type": "code",
   "execution_count": 39,
   "id": "78083904",
   "metadata": {},
   "outputs": [
    {
     "data": {
      "text/plain": [
       "array([[12, 47, 47],\n",
       "       [17, 36, 34],\n",
       "       [46, 26, 25],\n",
       "       [ 6, 23, 11]])"
      ]
     },
     "execution_count": 39,
     "metadata": {},
     "output_type": "execute_result"
    }
   ],
   "source": [
    "array2 = np.random.randint(0,50,(4,3))\n",
    "array2"
   ]
  },
  {
   "cell_type": "code",
   "execution_count": 40,
   "id": "01eff689",
   "metadata": {},
   "outputs": [
    {
     "data": {
      "text/plain": [
       "47"
      ]
     },
     "execution_count": 40,
     "metadata": {},
     "output_type": "execute_result"
    }
   ],
   "source": [
    "array2.max()"
   ]
  },
  {
   "cell_type": "code",
   "execution_count": 41,
   "id": "dae320d2",
   "metadata": {
    "scrolled": true
   },
   "outputs": [
    {
     "data": {
      "text/plain": [
       "1"
      ]
     },
     "execution_count": 41,
     "metadata": {},
     "output_type": "execute_result"
    }
   ],
   "source": [
    "array2.argmax()"
   ]
  },
  {
   "cell_type": "markdown",
   "id": "e4639e97",
   "metadata": {},
   "source": [
    "# Least Element of Numpy Array: Min(), Argmin() Functions"
   ]
  },
  {
   "cell_type": "code",
   "execution_count": 43,
   "id": "af308d43",
   "metadata": {},
   "outputs": [
    {
     "data": {
      "text/plain": [
       "array([54, 43, 36, 40, 26, 22, 56, 49, 69, 48])"
      ]
     },
     "execution_count": 43,
     "metadata": {},
     "output_type": "execute_result"
    }
   ],
   "source": [
    "array3 = np.random.randint(20, 70, 10)\n",
    "array3"
   ]
  },
  {
   "cell_type": "code",
   "execution_count": 44,
   "id": "c6b1ae07",
   "metadata": {},
   "outputs": [
    {
     "data": {
      "text/plain": [
       "22"
      ]
     },
     "execution_count": 44,
     "metadata": {},
     "output_type": "execute_result"
    }
   ],
   "source": [
    "array3.min()"
   ]
  },
  {
   "cell_type": "code",
   "execution_count": 45,
   "id": "f7d2dc51",
   "metadata": {},
   "outputs": [
    {
     "data": {
      "text/plain": [
       "5"
      ]
     },
     "execution_count": 45,
     "metadata": {},
     "output_type": "execute_result"
    }
   ],
   "source": [
    "array3.argmin()"
   ]
  },
  {
   "cell_type": "code",
   "execution_count": 46,
   "id": "958744b4",
   "metadata": {},
   "outputs": [
    {
     "data": {
      "text/plain": [
       "array([[35, 63, 55],\n",
       "       [63, 65, 69],\n",
       "       [34, 55, 44],\n",
       "       [36, 43, 55],\n",
       "       [34, 43, 65]])"
      ]
     },
     "execution_count": 46,
     "metadata": {},
     "output_type": "execute_result"
    }
   ],
   "source": [
    "array4 = np.random.randint(20, 70, (5,3))\n",
    "array4"
   ]
  },
  {
   "cell_type": "code",
   "execution_count": 48,
   "id": "f32c2511",
   "metadata": {},
   "outputs": [
    {
     "data": {
      "text/plain": [
       "34"
      ]
     },
     "execution_count": 48,
     "metadata": {},
     "output_type": "execute_result"
    }
   ],
   "source": [
    "array4.min()"
   ]
  },
  {
   "cell_type": "code",
   "execution_count": 47,
   "id": "9a8972be",
   "metadata": {},
   "outputs": [
    {
     "data": {
      "text/plain": [
       "6"
      ]
     },
     "execution_count": 47,
     "metadata": {},
     "output_type": "execute_result"
    }
   ],
   "source": [
    "array4.argmin()"
   ]
  },
  {
   "cell_type": "markdown",
   "id": "f9049b07",
   "metadata": {},
   "source": [
    "# Concatenating Numpy Arrays"
   ]
  },
  {
   "cell_type": "code",
   "execution_count": null,
   "id": "a4a83855",
   "metadata": {},
   "outputs": [],
   "source": []
  },
  {
   "cell_type": "code",
   "execution_count": null,
   "id": "f342dcf4",
   "metadata": {},
   "outputs": [],
   "source": []
  },
  {
   "cell_type": "code",
   "execution_count": null,
   "id": "da4aeb0d",
   "metadata": {},
   "outputs": [],
   "source": []
  },
  {
   "cell_type": "code",
   "execution_count": null,
   "id": "122beab8",
   "metadata": {},
   "outputs": [],
   "source": []
  },
  {
   "cell_type": "code",
   "execution_count": null,
   "id": "8d53d206",
   "metadata": {},
   "outputs": [],
   "source": []
  },
  {
   "cell_type": "code",
   "execution_count": null,
   "id": "543f1b2f",
   "metadata": {},
   "outputs": [],
   "source": []
  },
  {
   "cell_type": "code",
   "execution_count": null,
   "id": "19a5360a",
   "metadata": {},
   "outputs": [],
   "source": []
  },
  {
   "cell_type": "code",
   "execution_count": null,
   "id": "078cf135",
   "metadata": {},
   "outputs": [],
   "source": []
  },
  {
   "cell_type": "code",
   "execution_count": null,
   "id": "46691b7a",
   "metadata": {},
   "outputs": [],
   "source": []
  },
  {
   "cell_type": "code",
   "execution_count": null,
   "id": "1b56558d",
   "metadata": {},
   "outputs": [],
   "source": []
  },
  {
   "cell_type": "code",
   "execution_count": null,
   "id": "c527d767",
   "metadata": {},
   "outputs": [],
   "source": []
  },
  {
   "cell_type": "code",
   "execution_count": null,
   "id": "92535c71",
   "metadata": {},
   "outputs": [],
   "source": []
  },
  {
   "cell_type": "code",
   "execution_count": null,
   "id": "b3f1db7b",
   "metadata": {},
   "outputs": [],
   "source": []
  },
  {
   "cell_type": "code",
   "execution_count": null,
   "id": "9b602549",
   "metadata": {},
   "outputs": [],
   "source": []
  },
  {
   "cell_type": "code",
   "execution_count": null,
   "id": "a7a963bb",
   "metadata": {},
   "outputs": [],
   "source": []
  },
  {
   "cell_type": "code",
   "execution_count": null,
   "id": "b9bc35b1",
   "metadata": {},
   "outputs": [],
   "source": []
  },
  {
   "cell_type": "code",
   "execution_count": null,
   "id": "8ce31b53",
   "metadata": {},
   "outputs": [],
   "source": []
  }
 ],
 "metadata": {
  "kernelspec": {
   "display_name": "Python 3 (ipykernel)",
   "language": "python",
   "name": "python3"
  },
  "language_info": {
   "codemirror_mode": {
    "name": "ipython",
    "version": 3
   },
   "file_extension": ".py",
   "mimetype": "text/x-python",
   "name": "python",
   "nbconvert_exporter": "python",
   "pygments_lexer": "ipython3",
   "version": "3.9.12"
  }
 },
 "nbformat": 4,
 "nbformat_minor": 5
}
