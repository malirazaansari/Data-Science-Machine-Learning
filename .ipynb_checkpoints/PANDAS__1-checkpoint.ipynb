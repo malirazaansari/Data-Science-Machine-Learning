{
 "cells": [
  {
   "cell_type": "markdown",
   "id": "51a87307",
   "metadata": {},
   "source": [
    "# Creating a Pandas Series with a List"
   ]
  },
  {
   "cell_type": "code",
   "execution_count": 1,
   "id": "919701d3",
   "metadata": {},
   "outputs": [],
   "source": [
    "import pandas as pd"
   ]
  },
  {
   "cell_type": "code",
   "execution_count": 2,
   "id": "9fa4125d",
   "metadata": {},
   "outputs": [
    {
     "data": {
      "text/plain": [
       "0    1\n",
       "1    2\n",
       "2    3\n",
       "3    4\n",
       "4    5\n",
       "dtype: int64"
      ]
     },
     "execution_count": 2,
     "metadata": {},
     "output_type": "execute_result"
    }
   ],
   "source": [
    "pd.Series([1, 2, 3, 4, 5])"
   ]
  },
  {
   "cell_type": "code",
   "execution_count": 3,
   "id": "e8a1e61b",
   "metadata": {},
   "outputs": [],
   "source": [
    "list_data = [1, 2, 3, 4, 5]\n",
    "list_index = [\"a\", \"b\", \"c\", \"d\", \"e\"]"
   ]
  },
  {
   "cell_type": "code",
   "execution_count": 4,
   "id": "2d39af5c",
   "metadata": {},
   "outputs": [],
   "source": [
    "variable = pd.Series(data=list_data, index=list_index, dtype=\"float\")"
   ]
  },
  {
   "cell_type": "code",
   "execution_count": 5,
   "id": "0abd500a",
   "metadata": {},
   "outputs": [
    {
     "data": {
      "text/plain": [
       "a    1.0\n",
       "b    2.0\n",
       "c    3.0\n",
       "d    4.0\n",
       "e    5.0\n",
       "dtype: float64"
      ]
     },
     "execution_count": 5,
     "metadata": {},
     "output_type": "execute_result"
    }
   ],
   "source": [
    "variable"
   ]
  },
  {
   "cell_type": "code",
   "execution_count": 6,
   "id": "02bf140f",
   "metadata": {},
   "outputs": [
    {
     "data": {
      "text/plain": [
       "pandas.core.series.Series"
      ]
     },
     "execution_count": 6,
     "metadata": {},
     "output_type": "execute_result"
    }
   ],
   "source": [
    "type(variable)"
   ]
  },
  {
   "cell_type": "code",
   "execution_count": 7,
   "id": "89f1d406",
   "metadata": {},
   "outputs": [],
   "source": [
    "list_data = [1, 2, 3, 4, 5,6]\n",
    "list_index = [\"a\", \"b\", \"c\", \"d\", \"e\"]"
   ]
  },
  {
   "cell_type": "code",
   "execution_count": 8,
   "id": "be7b283a",
   "metadata": {},
   "outputs": [
    {
     "ename": "ValueError",
     "evalue": "Length of values (6) does not match length of index (5)",
     "output_type": "error",
     "traceback": [
      "\u001b[1;31m---------------------------------------------------------------------------\u001b[0m",
      "\u001b[1;31mValueError\u001b[0m                                Traceback (most recent call last)",
      "Input \u001b[1;32mIn [8]\u001b[0m, in \u001b[0;36m<cell line: 1>\u001b[1;34m()\u001b[0m\n\u001b[1;32m----> 1\u001b[0m variable \u001b[38;5;241m=\u001b[39m \u001b[43mpd\u001b[49m\u001b[38;5;241;43m.\u001b[39;49m\u001b[43mSeries\u001b[49m\u001b[43m(\u001b[49m\u001b[43mdata\u001b[49m\u001b[38;5;241;43m=\u001b[39;49m\u001b[43mlist_data\u001b[49m\u001b[43m,\u001b[49m\u001b[43m \u001b[49m\u001b[43mindex\u001b[49m\u001b[38;5;241;43m=\u001b[39;49m\u001b[43mlist_index\u001b[49m\u001b[43m,\u001b[49m\u001b[43m \u001b[49m\u001b[43mdtype\u001b[49m\u001b[38;5;241;43m=\u001b[39;49m\u001b[38;5;124;43m\"\u001b[39;49m\u001b[38;5;124;43mfloat\u001b[39;49m\u001b[38;5;124;43m\"\u001b[39;49m\u001b[43m)\u001b[49m\n",
      "File \u001b[1;32m~\\anaconda3\\lib\\site-packages\\pandas\\core\\series.py:442\u001b[0m, in \u001b[0;36mSeries.__init__\u001b[1;34m(self, data, index, dtype, name, copy, fastpath)\u001b[0m\n\u001b[0;32m    440\u001b[0m     index \u001b[38;5;241m=\u001b[39m default_index(\u001b[38;5;28mlen\u001b[39m(data))\n\u001b[0;32m    441\u001b[0m \u001b[38;5;28;01melif\u001b[39;00m is_list_like(data):\n\u001b[1;32m--> 442\u001b[0m     \u001b[43mcom\u001b[49m\u001b[38;5;241;43m.\u001b[39;49m\u001b[43mrequire_length_match\u001b[49m\u001b[43m(\u001b[49m\u001b[43mdata\u001b[49m\u001b[43m,\u001b[49m\u001b[43m \u001b[49m\u001b[43mindex\u001b[49m\u001b[43m)\u001b[49m\n\u001b[0;32m    444\u001b[0m \u001b[38;5;66;03m# create/copy the manager\u001b[39;00m\n\u001b[0;32m    445\u001b[0m \u001b[38;5;28;01mif\u001b[39;00m \u001b[38;5;28misinstance\u001b[39m(data, (SingleBlockManager, SingleArrayManager)):\n",
      "File \u001b[1;32m~\\anaconda3\\lib\\site-packages\\pandas\\core\\common.py:557\u001b[0m, in \u001b[0;36mrequire_length_match\u001b[1;34m(data, index)\u001b[0m\n\u001b[0;32m    553\u001b[0m \u001b[38;5;124;03m\"\"\"\u001b[39;00m\n\u001b[0;32m    554\u001b[0m \u001b[38;5;124;03mCheck the length of data matches the length of the index.\u001b[39;00m\n\u001b[0;32m    555\u001b[0m \u001b[38;5;124;03m\"\"\"\u001b[39;00m\n\u001b[0;32m    556\u001b[0m \u001b[38;5;28;01mif\u001b[39;00m \u001b[38;5;28mlen\u001b[39m(data) \u001b[38;5;241m!=\u001b[39m \u001b[38;5;28mlen\u001b[39m(index):\n\u001b[1;32m--> 557\u001b[0m     \u001b[38;5;28;01mraise\u001b[39;00m \u001b[38;5;167;01mValueError\u001b[39;00m(\n\u001b[0;32m    558\u001b[0m         \u001b[38;5;124m\"\u001b[39m\u001b[38;5;124mLength of values \u001b[39m\u001b[38;5;124m\"\u001b[39m\n\u001b[0;32m    559\u001b[0m         \u001b[38;5;124mf\u001b[39m\u001b[38;5;124m\"\u001b[39m\u001b[38;5;124m(\u001b[39m\u001b[38;5;132;01m{\u001b[39;00m\u001b[38;5;28mlen\u001b[39m(data)\u001b[38;5;132;01m}\u001b[39;00m\u001b[38;5;124m) \u001b[39m\u001b[38;5;124m\"\u001b[39m\n\u001b[0;32m    560\u001b[0m         \u001b[38;5;124m\"\u001b[39m\u001b[38;5;124mdoes not match length of index \u001b[39m\u001b[38;5;124m\"\u001b[39m\n\u001b[0;32m    561\u001b[0m         \u001b[38;5;124mf\u001b[39m\u001b[38;5;124m\"\u001b[39m\u001b[38;5;124m(\u001b[39m\u001b[38;5;132;01m{\u001b[39;00m\u001b[38;5;28mlen\u001b[39m(index)\u001b[38;5;132;01m}\u001b[39;00m\u001b[38;5;124m)\u001b[39m\u001b[38;5;124m\"\u001b[39m\n\u001b[0;32m    562\u001b[0m     )\n",
      "\u001b[1;31mValueError\u001b[0m: Length of values (6) does not match length of index (5)"
     ]
    }
   ],
   "source": [
    "variable = pd.Series(data=list_data, index=list_index, dtype=\"float\")"
   ]
  },
  {
   "cell_type": "markdown",
   "id": "88adaca0",
   "metadata": {},
   "source": [
    "# Creating a Pandas Series with a Dictionary"
   ]
  },
  {
   "cell_type": "code",
   "execution_count": 9,
   "id": "d48814c8",
   "metadata": {},
   "outputs": [],
   "source": [
    "dictionary = {\"ferrari\" : 334.7, \"porche\" : 337.9, \"lamborghini\" : 349}"
   ]
  },
  {
   "cell_type": "code",
   "execution_count": 10,
   "id": "aec414d5",
   "metadata": {
    "scrolled": true
   },
   "outputs": [
    {
     "data": {
      "text/plain": [
       "ferrari        334.7\n",
       "porche         337.9\n",
       "lamborghini    349.0\n",
       "dtype: float64"
      ]
     },
     "execution_count": 10,
     "metadata": {},
     "output_type": "execute_result"
    }
   ],
   "source": [
    "pd.Series(dictionary)"
   ]
  },
  {
   "cell_type": "code",
   "execution_count": 11,
   "id": "f1c7a092",
   "metadata": {},
   "outputs": [
    {
     "data": {
      "text/plain": [
       "ferrari        334.7\n",
       "porche         337.9\n",
       "lamborghini    349.0\n",
       "dtype: float64"
      ]
     },
     "execution_count": 11,
     "metadata": {},
     "output_type": "execute_result"
    }
   ],
   "source": [
    "pd.Series(data = dictionary)"
   ]
  },
  {
   "cell_type": "code",
   "execution_count": 12,
   "id": "f80f82f3",
   "metadata": {},
   "outputs": [],
   "source": [
    "variable = pd.Series(data = dictionary, index = [\"ferrari\", \"bugatti\", \"lamborghini\"])"
   ]
  },
  {
   "cell_type": "code",
   "execution_count": 13,
   "id": "ded01574",
   "metadata": {},
   "outputs": [
    {
     "data": {
      "text/plain": [
       "ferrari        334.7\n",
       "bugatti          NaN\n",
       "lamborghini    349.0\n",
       "dtype: float64"
      ]
     },
     "execution_count": 13,
     "metadata": {},
     "output_type": "execute_result"
    }
   ],
   "source": [
    "variable"
   ]
  },
  {
   "cell_type": "markdown",
   "id": "c5cea26e",
   "metadata": {},
   "source": [
    "# Creating Pandas Series with NumPy Array"
   ]
  },
  {
   "cell_type": "code",
   "execution_count": 14,
   "id": "a06eb2c9",
   "metadata": {},
   "outputs": [],
   "source": [
    "import numpy as np"
   ]
  },
  {
   "cell_type": "code",
   "execution_count": 15,
   "id": "8a0466ce",
   "metadata": {},
   "outputs": [],
   "source": [
    "example = np.array([1,3.3,5,7.2,9])\n",
    "labels = np.array([\"a\", \"b\", \"c\", \"d\", \"e\"])"
   ]
  },
  {
   "cell_type": "code",
   "execution_count": 16,
   "id": "9cd8e7da",
   "metadata": {},
   "outputs": [],
   "source": [
    "variable = pd.Series(data = example, index = labels)"
   ]
  },
  {
   "cell_type": "code",
   "execution_count": 17,
   "id": "d517e56d",
   "metadata": {},
   "outputs": [
    {
     "data": {
      "text/plain": [
       "a    1.0\n",
       "b    3.3\n",
       "c    5.0\n",
       "d    7.2\n",
       "e    9.0\n",
       "dtype: float64"
      ]
     },
     "execution_count": 17,
     "metadata": {},
     "output_type": "execute_result"
    }
   ],
   "source": [
    "variable"
   ]
  },
  {
   "cell_type": "markdown",
   "id": "60ec5207",
   "metadata": {},
   "source": [
    "# Object Types in Series"
   ]
  },
  {
   "cell_type": "code",
   "execution_count": 18,
   "id": "23946052",
   "metadata": {},
   "outputs": [
    {
     "data": {
      "text/plain": [
       "0    world\n",
       "1      100\n",
       "2      5.8\n",
       "3     True\n",
       "dtype: object"
      ]
     },
     "execution_count": 18,
     "metadata": {},
     "output_type": "execute_result"
    }
   ],
   "source": [
    "pd.Series([\"world\", 100, 5.8, True])"
   ]
  },
  {
   "cell_type": "code",
   "execution_count": 19,
   "id": "23fd4b33",
   "metadata": {},
   "outputs": [],
   "source": [
    "example = pd.Series([\"world\", 100, 5.8, True])"
   ]
  },
  {
   "cell_type": "code",
   "execution_count": 20,
   "id": "f70e3192",
   "metadata": {},
   "outputs": [
    {
     "data": {
      "text/plain": [
       "0    world\n",
       "1      100\n",
       "2      5.8\n",
       "3     True\n",
       "dtype: object"
      ]
     },
     "execution_count": 20,
     "metadata": {},
     "output_type": "execute_result"
    }
   ],
   "source": [
    "example"
   ]
  },
  {
   "cell_type": "code",
   "execution_count": 21,
   "id": "e96cfe40",
   "metadata": {},
   "outputs": [
    {
     "data": {
      "text/plain": [
       "'world'"
      ]
     },
     "execution_count": 21,
     "metadata": {},
     "output_type": "execute_result"
    }
   ],
   "source": [
    "example[0]"
   ]
  },
  {
   "cell_type": "code",
   "execution_count": 22,
   "id": "e1649627",
   "metadata": {},
   "outputs": [
    {
     "name": "stdout",
     "output_type": "stream",
     "text": [
      "<class 'str'>\n"
     ]
    }
   ],
   "source": [
    "print(type(example[0]))"
   ]
  },
  {
   "cell_type": "code",
   "execution_count": 23,
   "id": "8c71b267",
   "metadata": {},
   "outputs": [
    {
     "name": "stdout",
     "output_type": "stream",
     "text": [
      "<class 'int'>\n",
      "<class 'float'>\n",
      "<class 'bool'>\n"
     ]
    }
   ],
   "source": [
    "print(type(example[1]))\n",
    "print(type(example[2]))\n",
    "print(type(example[3]))"
   ]
  },
  {
   "cell_type": "code",
   "execution_count": 24,
   "id": "f4e009b0",
   "metadata": {},
   "outputs": [
    {
     "data": {
      "text/plain": [
       "0    <built-in function sum>\n",
       "1             <class 'type'>\n",
       "2    <built-in function max>\n",
       "dtype: object"
      ]
     },
     "execution_count": 24,
     "metadata": {},
     "output_type": "execute_result"
    }
   ],
   "source": [
    "pd.Series([sum, type, max])"
   ]
  },
  {
   "cell_type": "markdown",
   "id": "19fded0f",
   "metadata": {},
   "source": [
    "# Examining the Primary Features of the Pandas Series"
   ]
  },
  {
   "cell_type": "code",
   "execution_count": 25,
   "id": "b3496c19",
   "metadata": {},
   "outputs": [],
   "source": [
    "example = pd.Series([10, 20, 30, 40, 50, 60, 70])"
   ]
  },
  {
   "cell_type": "code",
   "execution_count": 26,
   "id": "a15503c7",
   "metadata": {},
   "outputs": [
    {
     "data": {
      "text/plain": [
       "0    10\n",
       "1    20\n",
       "2    30\n",
       "3    40\n",
       "4    50\n",
       "5    60\n",
       "6    70\n",
       "dtype: int64"
      ]
     },
     "execution_count": 26,
     "metadata": {},
     "output_type": "execute_result"
    }
   ],
   "source": [
    "example"
   ]
  },
  {
   "cell_type": "code",
   "execution_count": 27,
   "id": "48bac952",
   "metadata": {},
   "outputs": [
    {
     "data": {
      "text/plain": [
       "[RangeIndex(start=0, stop=7, step=1)]"
      ]
     },
     "execution_count": 27,
     "metadata": {},
     "output_type": "execute_result"
    }
   ],
   "source": [
    "example.axes"
   ]
  },
  {
   "cell_type": "code",
   "execution_count": 28,
   "id": "98876fd4",
   "metadata": {},
   "outputs": [
    {
     "data": {
      "text/plain": [
       "dtype('int64')"
      ]
     },
     "execution_count": 28,
     "metadata": {},
     "output_type": "execute_result"
    }
   ],
   "source": [
    "example.dtype"
   ]
  },
  {
   "cell_type": "code",
   "execution_count": 29,
   "id": "30d38630",
   "metadata": {},
   "outputs": [
    {
     "data": {
      "text/plain": [
       "7"
      ]
     },
     "execution_count": 29,
     "metadata": {},
     "output_type": "execute_result"
    }
   ],
   "source": [
    "example.size"
   ]
  },
  {
   "cell_type": "code",
   "execution_count": 30,
   "id": "346ce4b8",
   "metadata": {},
   "outputs": [
    {
     "data": {
      "text/plain": [
       "1"
      ]
     },
     "execution_count": 30,
     "metadata": {},
     "output_type": "execute_result"
    }
   ],
   "source": [
    "example.ndim"
   ]
  },
  {
   "cell_type": "code",
   "execution_count": 31,
   "id": "a961a3b7",
   "metadata": {},
   "outputs": [
    {
     "data": {
      "text/plain": [
       "0    10\n",
       "1    20\n",
       "2    30\n",
       "3    40\n",
       "4    50\n",
       "dtype: int64"
      ]
     },
     "execution_count": 31,
     "metadata": {},
     "output_type": "execute_result"
    }
   ],
   "source": [
    "example.head()"
   ]
  },
  {
   "cell_type": "code",
   "execution_count": 32,
   "id": "985bf8dd",
   "metadata": {},
   "outputs": [
    {
     "data": {
      "text/plain": [
       "0    10\n",
       "1    20\n",
       "2    30\n",
       "dtype: int64"
      ]
     },
     "execution_count": 32,
     "metadata": {},
     "output_type": "execute_result"
    }
   ],
   "source": [
    "example.head(3)"
   ]
  },
  {
   "cell_type": "code",
   "execution_count": 33,
   "id": "ebfa4530",
   "metadata": {},
   "outputs": [
    {
     "data": {
      "text/plain": [
       "2    30\n",
       "3    40\n",
       "4    50\n",
       "5    60\n",
       "6    70\n",
       "dtype: int64"
      ]
     },
     "execution_count": 33,
     "metadata": {},
     "output_type": "execute_result"
    }
   ],
   "source": [
    "example.tail()"
   ]
  },
  {
   "cell_type": "markdown",
   "id": "fc24b105",
   "metadata": {},
   "source": [
    "# Most Applied Methods on Pandas Series"
   ]
  },
  {
   "cell_type": "code",
   "execution_count": 34,
   "id": "cb66b315",
   "metadata": {},
   "outputs": [],
   "source": [
    "variable = pd.Series([8, 3, 6, 5, 1], index = [\"b\", \"d\", \"c\", \"a\", \"e\"])"
   ]
  },
  {
   "cell_type": "code",
   "execution_count": 35,
   "id": "66710947",
   "metadata": {},
   "outputs": [
    {
     "data": {
      "text/plain": [
       "b    8\n",
       "d    3\n",
       "c    6\n",
       "a    5\n",
       "e    1\n",
       "dtype: int64"
      ]
     },
     "execution_count": 35,
     "metadata": {},
     "output_type": "execute_result"
    }
   ],
   "source": [
    "variable"
   ]
  },
  {
   "cell_type": "code",
   "execution_count": 36,
   "id": "a3810bfa",
   "metadata": {},
   "outputs": [],
   "source": [
    "new_variable = variable.sort_index()"
   ]
  },
  {
   "cell_type": "code",
   "execution_count": 37,
   "id": "b1a553d6",
   "metadata": {},
   "outputs": [
    {
     "data": {
      "text/plain": [
       "a    5\n",
       "b    8\n",
       "c    6\n",
       "d    3\n",
       "e    1\n",
       "dtype: int64"
      ]
     },
     "execution_count": 37,
     "metadata": {},
     "output_type": "execute_result"
    }
   ],
   "source": [
    "new_variable"
   ]
  },
  {
   "cell_type": "code",
   "execution_count": 38,
   "id": "d4458723",
   "metadata": {},
   "outputs": [],
   "source": [
    "new_variable2 = variable.sort_values()"
   ]
  },
  {
   "cell_type": "code",
   "execution_count": 39,
   "id": "c698a04b",
   "metadata": {},
   "outputs": [
    {
     "data": {
      "text/plain": [
       "e    1\n",
       "d    3\n",
       "a    5\n",
       "c    6\n",
       "b    8\n",
       "dtype: int64"
      ]
     },
     "execution_count": 39,
     "metadata": {},
     "output_type": "execute_result"
    }
   ],
   "source": [
    "new_variable2"
   ]
  },
  {
   "cell_type": "code",
   "execution_count": 40,
   "id": "2ca457ac",
   "metadata": {},
   "outputs": [
    {
     "data": {
      "text/plain": [
       "b    False\n",
       "d    False\n",
       "c     True\n",
       "a    False\n",
       "e     True\n",
       "dtype: bool"
      ]
     },
     "execution_count": 40,
     "metadata": {},
     "output_type": "execute_result"
    }
   ],
   "source": [
    "variable.isin([6, 1])"
   ]
  },
  {
   "cell_type": "code",
   "execution_count": 41,
   "id": "521c96b0",
   "metadata": {},
   "outputs": [
    {
     "data": {
      "text/plain": [
       "c    6\n",
       "e    1\n",
       "dtype: int64"
      ]
     },
     "execution_count": 41,
     "metadata": {},
     "output_type": "execute_result"
    }
   ],
   "source": [
    "variable[variable.isin([6, 1])]"
   ]
  },
  {
   "cell_type": "code",
   "execution_count": 42,
   "id": "aee39b48",
   "metadata": {},
   "outputs": [
    {
     "data": {
      "text/plain": [
       "array([8, 3, 6, 5, 1], dtype=int64)"
      ]
     },
     "execution_count": 42,
     "metadata": {},
     "output_type": "execute_result"
    }
   ],
   "source": [
    "variable.values"
   ]
  },
  {
   "cell_type": "code",
   "execution_count": 43,
   "id": "79986f9a",
   "metadata": {},
   "outputs": [
    {
     "data": {
      "text/plain": [
       "[8, 3, 6, 5, 1]"
      ]
     },
     "execution_count": 43,
     "metadata": {},
     "output_type": "execute_result"
    }
   ],
   "source": [
    "[i for i in variable.values]"
   ]
  },
  {
   "cell_type": "code",
   "execution_count": 44,
   "id": "809dab9a",
   "metadata": {},
   "outputs": [
    {
     "data": {
      "text/plain": [
       "Index(['b', 'd', 'c', 'a', 'e'], dtype='object')"
      ]
     },
     "execution_count": 44,
     "metadata": {},
     "output_type": "execute_result"
    }
   ],
   "source": [
    "variable.index"
   ]
  },
  {
   "cell_type": "code",
   "execution_count": 45,
   "id": "44dc37d6",
   "metadata": {
    "scrolled": true
   },
   "outputs": [
    {
     "data": {
      "text/plain": [
       "['b', 'd', 'c', 'a', 'e']"
      ]
     },
     "execution_count": 45,
     "metadata": {},
     "output_type": "execute_result"
    }
   ],
   "source": [
    "[i for i in variable.index]"
   ]
  },
  {
   "cell_type": "code",
   "execution_count": 46,
   "id": "523ad82d",
   "metadata": {},
   "outputs": [
    {
     "data": {
      "text/plain": [
       "<bound method Series.items of b    8\n",
       "d    3\n",
       "c    6\n",
       "a    5\n",
       "e    1\n",
       "dtype: int64>"
      ]
     },
     "execution_count": 46,
     "metadata": {},
     "output_type": "execute_result"
    }
   ],
   "source": [
    "variable.items"
   ]
  },
  {
   "cell_type": "code",
   "execution_count": 47,
   "id": "a96e176d",
   "metadata": {},
   "outputs": [
    {
     "data": {
      "text/plain": [
       "<zip at 0x215993df840>"
      ]
     },
     "execution_count": 47,
     "metadata": {},
     "output_type": "execute_result"
    }
   ],
   "source": [
    "variable.items()"
   ]
  },
  {
   "cell_type": "code",
   "execution_count": 48,
   "id": "e4d0ccb5",
   "metadata": {},
   "outputs": [
    {
     "data": {
      "text/plain": [
       "[('b', 8), ('d', 3), ('c', 6), ('a', 5), ('e', 1)]"
      ]
     },
     "execution_count": 48,
     "metadata": {},
     "output_type": "execute_result"
    }
   ],
   "source": [
    "list(variable.items())"
   ]
  },
  {
   "cell_type": "code",
   "execution_count": 49,
   "id": "454cf5b2",
   "metadata": {},
   "outputs": [
    {
     "name": "stdout",
     "output_type": "stream",
     "text": [
      "b - 8\n",
      "d - 3\n",
      "c - 6\n",
      "a - 5\n",
      "e - 1\n"
     ]
    }
   ],
   "source": [
    "for index, value in variable.items():\n",
    "    print(index,'-', value)"
   ]
  },
  {
   "cell_type": "markdown",
   "id": "e92452f7",
   "metadata": {},
   "source": [
    "# Indexing and Slicing Pandas Series"
   ]
  },
  {
   "cell_type": "code",
   "execution_count": 50,
   "id": "2d715bb9",
   "metadata": {},
   "outputs": [],
   "source": [
    "example = pd.Series([\"+90\", \"+49\", \"+33\", \"+39\", \"+46\", \"+47\"], index = [\"Turkey\", \"Germany\", \"France\", \"Italy\", \"Sweden\", \"Norway\"]"
   ]
  },
  {
   "cell_type": "code",
   "execution_count": 51,
   "id": "98660afd",
   "metadata": {},
   "outputs": [
    {
     "data": {
      "text/plain": [
       "Turkey     +90\n",
       "Germany    +49\n",
       "France     +33\n",
       "Italy      +39\n",
       "Sweden     +46\n",
       "Norway     +47\n",
       "dtype: object"
      ]
     },
     "execution_count": 51,
     "metadata": {},
     "output_type": "execute_result"
    }
   ],
   "source": [
    "example"
   ]
  },
  {
   "cell_type": "code",
   "execution_count": 52,
   "id": "c916c490",
   "metadata": {},
   "outputs": [
    {
     "data": {
      "text/plain": [
       "'+49'"
      ]
     },
     "execution_count": 52,
     "metadata": {},
     "output_type": "execute_result"
    }
   ],
   "source": [
    "example[\"Germany\"]"
   ]
  },
  {
   "cell_type": "code",
   "execution_count": 54,
   "id": "f6990385",
   "metadata": {},
   "outputs": [
    {
     "data": {
      "text/plain": [
       "'+49'"
      ]
     },
     "execution_count": 54,
     "metadata": {},
     "output_type": "execute_result"
    }
   ],
   "source": [
    "example[1]"
   ]
  },
  {
   "cell_type": "code",
   "execution_count": 55,
   "id": "90809113",
   "metadata": {},
   "outputs": [
    {
     "data": {
      "text/plain": [
       "France    +33\n",
       "Italy     +39\n",
       "Sweden    +46\n",
       "dtype: object"
      ]
     },
     "execution_count": 55,
     "metadata": {},
     "output_type": "execute_result"
    }
   ],
   "source": [
    "example[\"France\":\"Sweden\"]"
   ]
  },
  {
   "cell_type": "code",
   "execution_count": 56,
   "id": "a9edc888",
   "metadata": {},
   "outputs": [
    {
     "data": {
      "text/plain": [
       "France    +33\n",
       "Italy     +39\n",
       "Sweden    +46\n",
       "dtype: object"
      ]
     },
     "execution_count": 56,
     "metadata": {},
     "output_type": "execute_result"
    }
   ],
   "source": [
    "example[2:5]"
   ]
  },
  {
   "cell_type": "code",
   "execution_count": 57,
   "id": "d053134a",
   "metadata": {},
   "outputs": [
    {
     "data": {
      "text/plain": [
       "France    +33\n",
       "Sweden    +46\n",
       "dtype: object"
      ]
     },
     "execution_count": 57,
     "metadata": {},
     "output_type": "execute_result"
    }
   ],
   "source": [
    "example[2:5:2]"
   ]
  },
  {
   "cell_type": "code",
   "execution_count": 58,
   "id": "7975c2fb",
   "metadata": {},
   "outputs": [
    {
     "data": {
      "text/plain": [
       "Norway    +47\n",
       "Turkey    +90\n",
       "dtype: object"
      ]
     },
     "execution_count": 58,
     "metadata": {},
     "output_type": "execute_result"
    }
   ],
   "source": [
    "example[[\"Norway\", \"Turkey\"]]"
   ]
  },
  {
   "cell_type": "code",
   "execution_count": null,
   "id": "8efa7bfa",
   "metadata": {},
   "outputs": [],
   "source": []
  }
 ],
 "metadata": {
  "kernelspec": {
   "display_name": "Python 3 (ipykernel)",
   "language": "python",
   "name": "python3"
  },
  "language_info": {
   "codemirror_mode": {
    "name": "ipython",
    "version": 3
   },
   "file_extension": ".py",
   "mimetype": "text/x-python",
   "name": "python",
   "nbconvert_exporter": "python",
   "pygments_lexer": "ipython3",
   "version": "3.9.12"
  }
 },
 "nbformat": 4,
 "nbformat_minor": 5
}
